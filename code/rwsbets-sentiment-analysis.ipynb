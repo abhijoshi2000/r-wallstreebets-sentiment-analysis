{
 "cells": [
  {
   "cell_type": "markdown",
   "metadata": {},
   "source": [
    "# Reddit Wall Street Bets Sentiment Analysis"
   ]
  },
  {
   "cell_type": "markdown",
   "metadata": {},
   "source": [
    "<img src=\"../images/reddit.jpg\">"
   ]
  },
  {
   "cell_type": "code",
   "execution_count": 94,
   "metadata": {},
   "outputs": [],
   "source": [
    "import numpy as np\n",
    "import pandas as pd\n",
    "import matplotlib.pyplot as plt\n",
    "import seaborn as sns\n",
    "import nltk\n",
    "import spacy\n",
    "import re\n",
    "import plotly.express as px\n",
    "\n",
    "from wordcloud import WordCloud, STOPWORDS, ImageColorGenerator\n",
    "from nltk.corpus import stopwords\n",
    "from nltk.tokenize import word_tokenize, RegexpTokenizer\n",
    "from matplotlib.pyplot import figure\n",
    "from datetime import datetime"
   ]
  },
  {
   "cell_type": "markdown",
   "metadata": {},
   "source": [
    "### Data Cleaning / Text Preprocessing"
   ]
  },
  {
   "cell_type": "code",
   "execution_count": 95,
   "metadata": {},
   "outputs": [],
   "source": [
    "df = pd.read_csv('../reddit_wsb.csv')"
   ]
  },
  {
   "cell_type": "code",
   "execution_count": 96,
   "metadata": {},
   "outputs": [],
   "source": [
    "df_gme = pd.read_csv('../gme.csv')"
   ]
  },
  {
   "cell_type": "code",
   "execution_count": 97,
   "metadata": {},
   "outputs": [
    {
     "data": {
      "text/html": [
       "<div>\n",
       "<style scoped>\n",
       "    .dataframe tbody tr th:only-of-type {\n",
       "        vertical-align: middle;\n",
       "    }\n",
       "\n",
       "    .dataframe tbody tr th {\n",
       "        vertical-align: top;\n",
       "    }\n",
       "\n",
       "    .dataframe thead th {\n",
       "        text-align: right;\n",
       "    }\n",
       "</style>\n",
       "<table border=\"1\" class=\"dataframe\">\n",
       "  <thead>\n",
       "    <tr style=\"text-align: right;\">\n",
       "      <th></th>\n",
       "      <th>title</th>\n",
       "      <th>score</th>\n",
       "      <th>id</th>\n",
       "      <th>url</th>\n",
       "      <th>comms_num</th>\n",
       "      <th>created</th>\n",
       "      <th>body</th>\n",
       "      <th>timestamp</th>\n",
       "      <th>change (+/-)</th>\n",
       "      <th>Dates</th>\n",
       "      <th>Unnamed: 10</th>\n",
       "    </tr>\n",
       "  </thead>\n",
       "  <tbody>\n",
       "    <tr>\n",
       "      <th>0</th>\n",
       "      <td>An autists journey. $150 to $68k in one month....</td>\n",
       "      <td>50</td>\n",
       "      <td>l6h58v</td>\n",
       "      <td>https://www.reddit.com/gallery/l6h58v</td>\n",
       "      <td>8</td>\n",
       "      <td>1611817696</td>\n",
       "      <td>NaN</td>\n",
       "      <td>1/28/2021 9:08</td>\n",
       "      <td>1.0</td>\n",
       "      <td>1/28/2021</td>\n",
       "      <td>NaN</td>\n",
       "    </tr>\n",
       "    <tr>\n",
       "      <th>1</th>\n",
       "      <td>You all have made Melvin live up to its name</td>\n",
       "      <td>70</td>\n",
       "      <td>l6h59b</td>\n",
       "      <td>https://i.redd.it/59sk10r7iyd61.png</td>\n",
       "      <td>7</td>\n",
       "      <td>1611817697</td>\n",
       "      <td>NaN</td>\n",
       "      <td>1/28/2021 9:08</td>\n",
       "      <td>1.0</td>\n",
       "      <td>1/29/2021</td>\n",
       "      <td>NaN</td>\n",
       "    </tr>\n",
       "    <tr>\n",
       "      <th>2</th>\n",
       "      <td>I got in late on GME but I believe in the caus...</td>\n",
       "      <td>75</td>\n",
       "      <td>l6h5a2</td>\n",
       "      <td>https://www.reddit.com/r/wallstreetbets/commen...</td>\n",
       "      <td>14</td>\n",
       "      <td>1611817698</td>\n",
       "      <td>You guys are amazing. Thank you for sending GM...</td>\n",
       "      <td>1/28/2021 9:08</td>\n",
       "      <td>1.0</td>\n",
       "      <td>2/1/2021</td>\n",
       "      <td>NaN</td>\n",
       "    </tr>\n",
       "    <tr>\n",
       "      <th>3</th>\n",
       "      <td>Highest SI % of Float End of Business Jan 27th...</td>\n",
       "      <td>26</td>\n",
       "      <td>l6h5am</td>\n",
       "      <td>https://www.reddit.com/r/wallstreetbets/commen...</td>\n",
       "      <td>22</td>\n",
       "      <td>1611817699</td>\n",
       "      <td>Will Update Daily At Market Close\\n\\nTop 5 sec...</td>\n",
       "      <td>1/28/2021 9:08</td>\n",
       "      <td>1.0</td>\n",
       "      <td>2/2/2021</td>\n",
       "      <td>NaN</td>\n",
       "    </tr>\n",
       "    <tr>\n",
       "      <th>4</th>\n",
       "      <td>Discord still down</td>\n",
       "      <td>0</td>\n",
       "      <td>l6h5bt</td>\n",
       "      <td>https://www.reddit.com/r/wallstreetbets/commen...</td>\n",
       "      <td>6</td>\n",
       "      <td>1611817701</td>\n",
       "      <td>i can't see how to talk to to any anti bot mea...</td>\n",
       "      <td>1/28/2021 9:08</td>\n",
       "      <td>1.0</td>\n",
       "      <td>2/3/2021</td>\n",
       "      <td>NaN</td>\n",
       "    </tr>\n",
       "  </tbody>\n",
       "</table>\n",
       "</div>"
      ],
      "text/plain": [
       "                                               title score      id  \\\n",
       "0  An autists journey. $150 to $68k in one month....    50  l6h58v   \n",
       "1       You all have made Melvin live up to its name    70  l6h59b   \n",
       "2  I got in late on GME but I believe in the caus...    75  l6h5a2   \n",
       "3  Highest SI % of Float End of Business Jan 27th...    26  l6h5am   \n",
       "4                                 Discord still down     0  l6h5bt   \n",
       "\n",
       "                                                 url comms_num     created  \\\n",
       "0              https://www.reddit.com/gallery/l6h58v         8  1611817696   \n",
       "1                https://i.redd.it/59sk10r7iyd61.png         7  1611817697   \n",
       "2  https://www.reddit.com/r/wallstreetbets/commen...        14  1611817698   \n",
       "3  https://www.reddit.com/r/wallstreetbets/commen...        22  1611817699   \n",
       "4  https://www.reddit.com/r/wallstreetbets/commen...         6  1611817701   \n",
       "\n",
       "                                                body       timestamp  \\\n",
       "0                                                NaN  1/28/2021 9:08   \n",
       "1                                                NaN  1/28/2021 9:08   \n",
       "2  You guys are amazing. Thank you for sending GM...  1/28/2021 9:08   \n",
       "3  Will Update Daily At Market Close\\n\\nTop 5 sec...  1/28/2021 9:08   \n",
       "4  i can't see how to talk to to any anti bot mea...  1/28/2021 9:08   \n",
       "\n",
       "   change (+/-)      Dates Unnamed: 10  \n",
       "0           1.0  1/28/2021         NaN  \n",
       "1           1.0  1/29/2021         NaN  \n",
       "2           1.0   2/1/2021         NaN  \n",
       "3           1.0   2/2/2021         NaN  \n",
       "4           1.0   2/3/2021         NaN  "
      ]
     },
     "execution_count": 97,
     "metadata": {},
     "output_type": "execute_result"
    }
   ],
   "source": [
    "df.head(5)"
   ]
  },
  {
   "cell_type": "code",
   "execution_count": 98,
   "metadata": {
    "scrolled": false
   },
   "outputs": [
    {
     "data": {
      "text/html": [
       "<div>\n",
       "<style scoped>\n",
       "    .dataframe tbody tr th:only-of-type {\n",
       "        vertical-align: middle;\n",
       "    }\n",
       "\n",
       "    .dataframe tbody tr th {\n",
       "        vertical-align: top;\n",
       "    }\n",
       "\n",
       "    .dataframe thead th {\n",
       "        text-align: right;\n",
       "    }\n",
       "</style>\n",
       "<table border=\"1\" class=\"dataframe\">\n",
       "  <thead>\n",
       "    <tr style=\"text-align: right;\">\n",
       "      <th></th>\n",
       "      <th>Date</th>\n",
       "      <th>Open</th>\n",
       "      <th>High</th>\n",
       "      <th>Low</th>\n",
       "      <th>Close</th>\n",
       "      <th>Adj Close</th>\n",
       "      <th>Volume</th>\n",
       "      <th>Change</th>\n",
       "      <th>Change (+/-)</th>\n",
       "    </tr>\n",
       "  </thead>\n",
       "  <tbody>\n",
       "    <tr>\n",
       "      <th>0</th>\n",
       "      <td>1/28/2021</td>\n",
       "      <td>265.000000</td>\n",
       "      <td>483.000000</td>\n",
       "      <td>112.250000</td>\n",
       "      <td>193.600006</td>\n",
       "      <td>193.600006</td>\n",
       "      <td>58815800.0</td>\n",
       "      <td>0.000000</td>\n",
       "      <td>1.0</td>\n",
       "    </tr>\n",
       "    <tr>\n",
       "      <th>1</th>\n",
       "      <td>1/29/2021</td>\n",
       "      <td>379.709991</td>\n",
       "      <td>413.980011</td>\n",
       "      <td>250.000000</td>\n",
       "      <td>325.000000</td>\n",
       "      <td>325.000000</td>\n",
       "      <td>50566100.0</td>\n",
       "      <td>131.399994</td>\n",
       "      <td>1.0</td>\n",
       "    </tr>\n",
       "    <tr>\n",
       "      <th>2</th>\n",
       "      <td>2/1/2021</td>\n",
       "      <td>316.559998</td>\n",
       "      <td>322.000000</td>\n",
       "      <td>212.000000</td>\n",
       "      <td>225.000000</td>\n",
       "      <td>225.000000</td>\n",
       "      <td>37382200.0</td>\n",
       "      <td>-100.000000</td>\n",
       "      <td>0.0</td>\n",
       "    </tr>\n",
       "    <tr>\n",
       "      <th>3</th>\n",
       "      <td>2/2/2021</td>\n",
       "      <td>140.759995</td>\n",
       "      <td>158.000000</td>\n",
       "      <td>74.220001</td>\n",
       "      <td>90.000000</td>\n",
       "      <td>90.000000</td>\n",
       "      <td>78183100.0</td>\n",
       "      <td>-135.000000</td>\n",
       "      <td>0.0</td>\n",
       "    </tr>\n",
       "    <tr>\n",
       "      <th>4</th>\n",
       "      <td>2/3/2021</td>\n",
       "      <td>112.010002</td>\n",
       "      <td>113.400002</td>\n",
       "      <td>85.250000</td>\n",
       "      <td>92.410004</td>\n",
       "      <td>92.410004</td>\n",
       "      <td>42698500.0</td>\n",
       "      <td>2.410004</td>\n",
       "      <td>1.0</td>\n",
       "    </tr>\n",
       "  </tbody>\n",
       "</table>\n",
       "</div>"
      ],
      "text/plain": [
       "        Date        Open        High         Low       Close   Adj Close  \\\n",
       "0  1/28/2021  265.000000  483.000000  112.250000  193.600006  193.600006   \n",
       "1  1/29/2021  379.709991  413.980011  250.000000  325.000000  325.000000   \n",
       "2   2/1/2021  316.559998  322.000000  212.000000  225.000000  225.000000   \n",
       "3   2/2/2021  140.759995  158.000000   74.220001   90.000000   90.000000   \n",
       "4   2/3/2021  112.010002  113.400002   85.250000   92.410004   92.410004   \n",
       "\n",
       "       Volume      Change  Change (+/-)  \n",
       "0  58815800.0    0.000000           1.0  \n",
       "1  50566100.0  131.399994           1.0  \n",
       "2  37382200.0 -100.000000           0.0  \n",
       "3  78183100.0 -135.000000           0.0  \n",
       "4  42698500.0    2.410004           1.0  "
      ]
     },
     "execution_count": 98,
     "metadata": {},
     "output_type": "execute_result"
    }
   ],
   "source": [
    "df_gme.head(5)"
   ]
  },
  {
   "cell_type": "code",
   "execution_count": 99,
   "metadata": {},
   "outputs": [],
   "source": [
    "# Drop unnecessary columns for analysis\n",
    "df = df.drop(columns=['id', 'url', 'created', 'Unnamed: 10', 'Dates'])"
   ]
  },
  {
   "cell_type": "code",
   "execution_count": 100,
   "metadata": {},
   "outputs": [],
   "source": [
    "df_gme = df_gme.drop(columns=['Open', 'High', 'Low', 'Close', 'Volume', 'Change'])"
   ]
  },
  {
   "cell_type": "code",
   "execution_count": 101,
   "metadata": {},
   "outputs": [
    {
     "data": {
      "text/plain": [
       "title            9017\n",
       "score            9023\n",
       "comms_num        9028\n",
       "body            28597\n",
       "timestamp        9035\n",
       "change (+/-)     9035\n",
       "dtype: int64"
      ]
     },
     "execution_count": 101,
     "metadata": {},
     "output_type": "execute_result"
    }
   ],
   "source": [
    "# Handle missing values\n",
    "df.isnull().sum()"
   ]
  },
  {
   "cell_type": "code",
   "execution_count": 102,
   "metadata": {},
   "outputs": [
    {
     "data": {
      "text/plain": [
       "Date            1\n",
       "Adj Close       1\n",
       "Change (+/-)    1\n",
       "dtype: int64"
      ]
     },
     "execution_count": 102,
     "metadata": {},
     "output_type": "execute_result"
    }
   ],
   "source": [
    "df_gme.isnull().sum()"
   ]
  },
  {
   "cell_type": "code",
   "execution_count": 103,
   "metadata": {},
   "outputs": [
    {
     "name": "stdout",
     "output_type": "stream",
     "text": [
      "<class 'pandas.core.frame.DataFrame'>\n",
      "RangeIndex: 46184 entries, 0 to 46183\n",
      "Data columns (total 6 columns):\n",
      " #   Column        Non-Null Count  Dtype  \n",
      "---  ------        --------------  -----  \n",
      " 0   title         37167 non-null  object \n",
      " 1   score         37161 non-null  object \n",
      " 2   comms_num     37156 non-null  object \n",
      " 3   body          17587 non-null  object \n",
      " 4   timestamp     37149 non-null  object \n",
      " 5   change (+/-)  37149 non-null  float64\n",
      "dtypes: float64(1), object(5)\n",
      "memory usage: 2.1+ MB\n"
     ]
    }
   ],
   "source": [
    "# Information about dataset\n",
    "df.info()"
   ]
  },
  {
   "cell_type": "code",
   "execution_count": 104,
   "metadata": {},
   "outputs": [
    {
     "name": "stdout",
     "output_type": "stream",
     "text": [
      "<class 'pandas.core.frame.DataFrame'>\n",
      "RangeIndex: 64 entries, 0 to 63\n",
      "Data columns (total 3 columns):\n",
      " #   Column        Non-Null Count  Dtype  \n",
      "---  ------        --------------  -----  \n",
      " 0   Date          63 non-null     object \n",
      " 1   Adj Close     63 non-null     float64\n",
      " 2   Change (+/-)  63 non-null     float64\n",
      "dtypes: float64(2), object(1)\n",
      "memory usage: 1.6+ KB\n"
     ]
    }
   ],
   "source": [
    "df_gme.info()"
   ]
  },
  {
   "cell_type": "code",
   "execution_count": 105,
   "metadata": {},
   "outputs": [
    {
     "data": {
      "text/html": [
       "<div>\n",
       "<style scoped>\n",
       "    .dataframe tbody tr th:only-of-type {\n",
       "        vertical-align: middle;\n",
       "    }\n",
       "\n",
       "    .dataframe tbody tr th {\n",
       "        vertical-align: top;\n",
       "    }\n",
       "\n",
       "    .dataframe thead th {\n",
       "        text-align: right;\n",
       "    }\n",
       "</style>\n",
       "<table border=\"1\" class=\"dataframe\">\n",
       "  <thead>\n",
       "    <tr style=\"text-align: right;\">\n",
       "      <th></th>\n",
       "      <th>change (+/-)</th>\n",
       "    </tr>\n",
       "  </thead>\n",
       "  <tbody>\n",
       "    <tr>\n",
       "      <th>count</th>\n",
       "      <td>37149.000000</td>\n",
       "    </tr>\n",
       "    <tr>\n",
       "      <th>mean</th>\n",
       "      <td>0.744946</td>\n",
       "    </tr>\n",
       "    <tr>\n",
       "      <th>std</th>\n",
       "      <td>0.435897</td>\n",
       "    </tr>\n",
       "    <tr>\n",
       "      <th>min</th>\n",
       "      <td>0.000000</td>\n",
       "    </tr>\n",
       "    <tr>\n",
       "      <th>25%</th>\n",
       "      <td>0.000000</td>\n",
       "    </tr>\n",
       "    <tr>\n",
       "      <th>50%</th>\n",
       "      <td>1.000000</td>\n",
       "    </tr>\n",
       "    <tr>\n",
       "      <th>75%</th>\n",
       "      <td>1.000000</td>\n",
       "    </tr>\n",
       "    <tr>\n",
       "      <th>max</th>\n",
       "      <td>1.000000</td>\n",
       "    </tr>\n",
       "  </tbody>\n",
       "</table>\n",
       "</div>"
      ],
      "text/plain": [
       "       change (+/-)\n",
       "count  37149.000000\n",
       "mean       0.744946\n",
       "std        0.435897\n",
       "min        0.000000\n",
       "25%        0.000000\n",
       "50%        1.000000\n",
       "75%        1.000000\n",
       "max        1.000000"
      ]
     },
     "execution_count": 105,
     "metadata": {},
     "output_type": "execute_result"
    }
   ],
   "source": [
    "# Describe dataset\n",
    "df.describe()"
   ]
  },
  {
   "cell_type": "code",
   "execution_count": 106,
   "metadata": {},
   "outputs": [
    {
     "data": {
      "text/html": [
       "<div>\n",
       "<style scoped>\n",
       "    .dataframe tbody tr th:only-of-type {\n",
       "        vertical-align: middle;\n",
       "    }\n",
       "\n",
       "    .dataframe tbody tr th {\n",
       "        vertical-align: top;\n",
       "    }\n",
       "\n",
       "    .dataframe thead th {\n",
       "        text-align: right;\n",
       "    }\n",
       "</style>\n",
       "<table border=\"1\" class=\"dataframe\">\n",
       "  <thead>\n",
       "    <tr style=\"text-align: right;\">\n",
       "      <th></th>\n",
       "      <th>Adj Close</th>\n",
       "      <th>Change (+/-)</th>\n",
       "    </tr>\n",
       "  </thead>\n",
       "  <tbody>\n",
       "    <tr>\n",
       "      <th>count</th>\n",
       "      <td>63.000000</td>\n",
       "      <td>63.000000</td>\n",
       "    </tr>\n",
       "    <tr>\n",
       "      <th>mean</th>\n",
       "      <td>148.368889</td>\n",
       "      <td>0.444444</td>\n",
       "    </tr>\n",
       "    <tr>\n",
       "      <th>std</th>\n",
       "      <td>66.189996</td>\n",
       "      <td>0.500895</td>\n",
       "    </tr>\n",
       "    <tr>\n",
       "      <th>min</th>\n",
       "      <td>40.590000</td>\n",
       "      <td>0.000000</td>\n",
       "    </tr>\n",
       "    <tr>\n",
       "      <th>25%</th>\n",
       "      <td>97.075001</td>\n",
       "      <td>0.000000</td>\n",
       "    </tr>\n",
       "    <tr>\n",
       "      <th>50%</th>\n",
       "      <td>158.509995</td>\n",
       "      <td>0.000000</td>\n",
       "    </tr>\n",
       "    <tr>\n",
       "      <th>75%</th>\n",
       "      <td>190.635002</td>\n",
       "      <td>1.000000</td>\n",
       "    </tr>\n",
       "    <tr>\n",
       "      <th>max</th>\n",
       "      <td>325.000000</td>\n",
       "      <td>1.000000</td>\n",
       "    </tr>\n",
       "  </tbody>\n",
       "</table>\n",
       "</div>"
      ],
      "text/plain": [
       "        Adj Close  Change (+/-)\n",
       "count   63.000000     63.000000\n",
       "mean   148.368889      0.444444\n",
       "std     66.189996      0.500895\n",
       "min     40.590000      0.000000\n",
       "25%     97.075001      0.000000\n",
       "50%    158.509995      0.000000\n",
       "75%    190.635002      1.000000\n",
       "max    325.000000      1.000000"
      ]
     },
     "execution_count": 106,
     "metadata": {},
     "output_type": "execute_result"
    }
   ],
   "source": [
    "df_gme.describe()"
   ]
  },
  {
   "cell_type": "code",
   "execution_count": 107,
   "metadata": {},
   "outputs": [
    {
     "data": {
      "text/html": [
       "<div>\n",
       "<style scoped>\n",
       "    .dataframe tbody tr th:only-of-type {\n",
       "        vertical-align: middle;\n",
       "    }\n",
       "\n",
       "    .dataframe tbody tr th {\n",
       "        vertical-align: top;\n",
       "    }\n",
       "\n",
       "    .dataframe thead th {\n",
       "        text-align: right;\n",
       "    }\n",
       "</style>\n",
       "<table border=\"1\" class=\"dataframe\">\n",
       "  <thead>\n",
       "    <tr style=\"text-align: right;\">\n",
       "      <th></th>\n",
       "      <th>title</th>\n",
       "      <th>score</th>\n",
       "      <th>comms_num</th>\n",
       "      <th>body</th>\n",
       "      <th>timestamp</th>\n",
       "      <th>change (+/-)</th>\n",
       "    </tr>\n",
       "  </thead>\n",
       "  <tbody>\n",
       "    <tr>\n",
       "      <th>0</th>\n",
       "      <td>An autists journey. $150 to $68k in one month....</td>\n",
       "      <td>50</td>\n",
       "      <td>8</td>\n",
       "      <td>NaN</td>\n",
       "      <td>1/28/2021 9:08</td>\n",
       "      <td>1.0</td>\n",
       "    </tr>\n",
       "    <tr>\n",
       "      <th>1</th>\n",
       "      <td>You all have made Melvin live up to its name</td>\n",
       "      <td>70</td>\n",
       "      <td>7</td>\n",
       "      <td>NaN</td>\n",
       "      <td>1/28/2021 9:08</td>\n",
       "      <td>1.0</td>\n",
       "    </tr>\n",
       "    <tr>\n",
       "      <th>2</th>\n",
       "      <td>I got in late on GME but I believe in the caus...</td>\n",
       "      <td>75</td>\n",
       "      <td>14</td>\n",
       "      <td>You guys are amazing. Thank you for sending GM...</td>\n",
       "      <td>1/28/2021 9:08</td>\n",
       "      <td>1.0</td>\n",
       "    </tr>\n",
       "    <tr>\n",
       "      <th>3</th>\n",
       "      <td>Highest SI % of Float End of Business Jan 27th...</td>\n",
       "      <td>26</td>\n",
       "      <td>22</td>\n",
       "      <td>Will Update Daily At Market Close\\n\\nTop 5 sec...</td>\n",
       "      <td>1/28/2021 9:08</td>\n",
       "      <td>1.0</td>\n",
       "    </tr>\n",
       "    <tr>\n",
       "      <th>4</th>\n",
       "      <td>Discord still down</td>\n",
       "      <td>0</td>\n",
       "      <td>6</td>\n",
       "      <td>i can't see how to talk to to any anti bot mea...</td>\n",
       "      <td>1/28/2021 9:08</td>\n",
       "      <td>1.0</td>\n",
       "    </tr>\n",
       "    <tr>\n",
       "      <th>5</th>\n",
       "      <td>What are you doing to AMC?</td>\n",
       "      <td>67</td>\n",
       "      <td>55</td>\n",
       "      <td>Hey retards what the hell is going on with AMC...</td>\n",
       "      <td>1/28/2021 9:08</td>\n",
       "      <td>1.0</td>\n",
       "    </tr>\n",
       "    <tr>\n",
       "      <th>6</th>\n",
       "      <td>HOW CAN I BUY STOCK????!!!</td>\n",
       "      <td>0</td>\n",
       "      <td>12</td>\n",
       "      <td>I'm from canada and want to know the best trad...</td>\n",
       "      <td>1/28/2021 9:08</td>\n",
       "      <td>1.0</td>\n",
       "    </tr>\n",
       "    <tr>\n",
       "      <th>7</th>\n",
       "      <td>Buy games at GameStop, donate to charity (not ...</td>\n",
       "      <td>50</td>\n",
       "      <td>9</td>\n",
       "      <td>Value goes up, kids play video games</td>\n",
       "      <td>1/28/2021 9:08</td>\n",
       "      <td>1.0</td>\n",
       "    </tr>\n",
       "    <tr>\n",
       "      <th>8</th>\n",
       "      <td>How do i invest in GameStop? I don't know anyt...</td>\n",
       "      <td>0</td>\n",
       "      <td>21</td>\n",
       "      <td>NaN</td>\n",
       "      <td>1/28/2021 9:08</td>\n",
       "      <td>1.0</td>\n",
       "    </tr>\n",
       "    <tr>\n",
       "      <th>9</th>\n",
       "      <td>Hmmmmmm turns out BlackRock is making use of o...</td>\n",
       "      <td>66</td>\n",
       "      <td>8</td>\n",
       "      <td>NaN</td>\n",
       "      <td>1/28/2021 9:08</td>\n",
       "      <td>1.0</td>\n",
       "    </tr>\n",
       "  </tbody>\n",
       "</table>\n",
       "</div>"
      ],
      "text/plain": [
       "                                               title score comms_num  \\\n",
       "0  An autists journey. $150 to $68k in one month....    50         8   \n",
       "1       You all have made Melvin live up to its name    70         7   \n",
       "2  I got in late on GME but I believe in the caus...    75        14   \n",
       "3  Highest SI % of Float End of Business Jan 27th...    26        22   \n",
       "4                                 Discord still down     0         6   \n",
       "5                         What are you doing to AMC?    67        55   \n",
       "6                         HOW CAN I BUY STOCK????!!!     0        12   \n",
       "7  Buy games at GameStop, donate to charity (not ...    50         9   \n",
       "8  How do i invest in GameStop? I don't know anyt...     0        21   \n",
       "9  Hmmmmmm turns out BlackRock is making use of o...    66         8   \n",
       "\n",
       "                                                body       timestamp  \\\n",
       "0                                                NaN  1/28/2021 9:08   \n",
       "1                                                NaN  1/28/2021 9:08   \n",
       "2  You guys are amazing. Thank you for sending GM...  1/28/2021 9:08   \n",
       "3  Will Update Daily At Market Close\\n\\nTop 5 sec...  1/28/2021 9:08   \n",
       "4  i can't see how to talk to to any anti bot mea...  1/28/2021 9:08   \n",
       "5  Hey retards what the hell is going on with AMC...  1/28/2021 9:08   \n",
       "6  I'm from canada and want to know the best trad...  1/28/2021 9:08   \n",
       "7               Value goes up, kids play video games  1/28/2021 9:08   \n",
       "8                                                NaN  1/28/2021 9:08   \n",
       "9                                                NaN  1/28/2021 9:08   \n",
       "\n",
       "   change (+/-)  \n",
       "0           1.0  \n",
       "1           1.0  \n",
       "2           1.0  \n",
       "3           1.0  \n",
       "4           1.0  \n",
       "5           1.0  \n",
       "6           1.0  \n",
       "7           1.0  \n",
       "8           1.0  \n",
       "9           1.0  "
      ]
     },
     "execution_count": 107,
     "metadata": {},
     "output_type": "execute_result"
    }
   ],
   "source": [
    "df.head(10)"
   ]
  },
  {
   "cell_type": "code",
   "execution_count": 108,
   "metadata": {},
   "outputs": [
    {
     "data": {
      "text/html": [
       "<div>\n",
       "<style scoped>\n",
       "    .dataframe tbody tr th:only-of-type {\n",
       "        vertical-align: middle;\n",
       "    }\n",
       "\n",
       "    .dataframe tbody tr th {\n",
       "        vertical-align: top;\n",
       "    }\n",
       "\n",
       "    .dataframe thead th {\n",
       "        text-align: right;\n",
       "    }\n",
       "</style>\n",
       "<table border=\"1\" class=\"dataframe\">\n",
       "  <thead>\n",
       "    <tr style=\"text-align: right;\">\n",
       "      <th></th>\n",
       "      <th>Date</th>\n",
       "      <th>Adj Close</th>\n",
       "      <th>Change (+/-)</th>\n",
       "    </tr>\n",
       "  </thead>\n",
       "  <tbody>\n",
       "    <tr>\n",
       "      <th>0</th>\n",
       "      <td>1/28/2021</td>\n",
       "      <td>193.600006</td>\n",
       "      <td>1.0</td>\n",
       "    </tr>\n",
       "    <tr>\n",
       "      <th>1</th>\n",
       "      <td>1/29/2021</td>\n",
       "      <td>325.000000</td>\n",
       "      <td>1.0</td>\n",
       "    </tr>\n",
       "    <tr>\n",
       "      <th>2</th>\n",
       "      <td>2/1/2021</td>\n",
       "      <td>225.000000</td>\n",
       "      <td>0.0</td>\n",
       "    </tr>\n",
       "    <tr>\n",
       "      <th>3</th>\n",
       "      <td>2/2/2021</td>\n",
       "      <td>90.000000</td>\n",
       "      <td>0.0</td>\n",
       "    </tr>\n",
       "    <tr>\n",
       "      <th>4</th>\n",
       "      <td>2/3/2021</td>\n",
       "      <td>92.410004</td>\n",
       "      <td>1.0</td>\n",
       "    </tr>\n",
       "    <tr>\n",
       "      <th>5</th>\n",
       "      <td>2/4/2021</td>\n",
       "      <td>53.500000</td>\n",
       "      <td>0.0</td>\n",
       "    </tr>\n",
       "    <tr>\n",
       "      <th>6</th>\n",
       "      <td>2/5/2021</td>\n",
       "      <td>63.770000</td>\n",
       "      <td>1.0</td>\n",
       "    </tr>\n",
       "    <tr>\n",
       "      <th>7</th>\n",
       "      <td>2/8/2021</td>\n",
       "      <td>60.000000</td>\n",
       "      <td>0.0</td>\n",
       "    </tr>\n",
       "    <tr>\n",
       "      <th>8</th>\n",
       "      <td>2/9/2021</td>\n",
       "      <td>50.310001</td>\n",
       "      <td>0.0</td>\n",
       "    </tr>\n",
       "    <tr>\n",
       "      <th>9</th>\n",
       "      <td>2/10/2021</td>\n",
       "      <td>51.200001</td>\n",
       "      <td>1.0</td>\n",
       "    </tr>\n",
       "  </tbody>\n",
       "</table>\n",
       "</div>"
      ],
      "text/plain": [
       "        Date   Adj Close  Change (+/-)\n",
       "0  1/28/2021  193.600006           1.0\n",
       "1  1/29/2021  325.000000           1.0\n",
       "2   2/1/2021  225.000000           0.0\n",
       "3   2/2/2021   90.000000           0.0\n",
       "4   2/3/2021   92.410004           1.0\n",
       "5   2/4/2021   53.500000           0.0\n",
       "6   2/5/2021   63.770000           1.0\n",
       "7   2/8/2021   60.000000           0.0\n",
       "8   2/9/2021   50.310001           0.0\n",
       "9  2/10/2021   51.200001           1.0"
      ]
     },
     "execution_count": 108,
     "metadata": {},
     "output_type": "execute_result"
    }
   ],
   "source": [
    "df_gme.head(10)"
   ]
  },
  {
   "cell_type": "markdown",
   "metadata": {},
   "source": [
    "### Data Cleaning / Data Preprocessing"
   ]
  },
  {
   "cell_type": "code",
   "execution_count": 109,
   "metadata": {},
   "outputs": [
    {
     "name": "stderr",
     "output_type": "stream",
     "text": [
      "[nltk_data] Downloading package punkt to C:\\Users\\Abhi\n",
      "[nltk_data]     Joshi\\AppData\\Roaming\\nltk_data...\n",
      "[nltk_data]   Package punkt is already up-to-date!\n"
     ]
    }
   ],
   "source": [
    "nltk.download('punkt')\n",
    "porter = nltk.PorterStemmer()"
   ]
  },
  {
   "cell_type": "code",
   "execution_count": 110,
   "metadata": {},
   "outputs": [],
   "source": [
    "def text_preprocessing(text): \n",
    "    # tokenization, remove punctuation, lemmatization\n",
    "    words = word_tokenize(str(text))\n",
    "    words = RegexpTokenizer(r'\\w+')\n",
    "    words = [porter.stem(t) for t in str(text).split()]\n",
    "    \n",
    "    # remove symbols, websites, email addresses \n",
    "    words = [re.sub(r\"[^A-Za-z@]\", \"\", word) for word in words] \n",
    "    words = [re.sub(r\"\\S+com\", \"\", word) for word in words]\n",
    "    words = [re.sub(r\"\\S+@\\S+\", \"\", word) for word in words] \n",
    "    words = [word for word in words if word != \" \" and word != \"\"]\n",
    "    words = [word for word in words if len(word) != 0] \n",
    "    \n",
    "    # remove stopwords     \n",
    "    stopwords = set(STOPWORDS)\n",
    "    stopwords.update(nltk.corpus.stopwords.words('english'))\n",
    "    stopwords_lower = [s.lower() for s in stopwords]\n",
    "    words=[word.lower() for word in words if word.lower() not in stopwords_lower]\n",
    "    \n",
    "    # combine a list into one string   \n",
    "    string = \" \".join(words)\n",
    "    \n",
    "    return string"
   ]
  },
  {
   "cell_type": "code",
   "execution_count": 111,
   "metadata": {},
   "outputs": [],
   "source": [
    "df['title_cleaned'] = df['title'].apply(text_preprocessing)\n",
    "df['body_cleaned'] = df['body'].apply(text_preprocessing)"
   ]
  },
  {
   "cell_type": "code",
   "execution_count": 112,
   "metadata": {},
   "outputs": [
    {
     "data": {
      "text/html": [
       "<div>\n",
       "<style scoped>\n",
       "    .dataframe tbody tr th:only-of-type {\n",
       "        vertical-align: middle;\n",
       "    }\n",
       "\n",
       "    .dataframe tbody tr th {\n",
       "        vertical-align: top;\n",
       "    }\n",
       "\n",
       "    .dataframe thead th {\n",
       "        text-align: right;\n",
       "    }\n",
       "</style>\n",
       "<table border=\"1\" class=\"dataframe\">\n",
       "  <thead>\n",
       "    <tr style=\"text-align: right;\">\n",
       "      <th></th>\n",
       "      <th>title</th>\n",
       "      <th>score</th>\n",
       "      <th>comms_num</th>\n",
       "      <th>body</th>\n",
       "      <th>timestamp</th>\n",
       "      <th>change (+/-)</th>\n",
       "      <th>title_cleaned</th>\n",
       "      <th>body_cleaned</th>\n",
       "    </tr>\n",
       "  </thead>\n",
       "  <tbody>\n",
       "    <tr>\n",
       "      <th>0</th>\n",
       "      <td>An autists journey. $150 to $68k in one month....</td>\n",
       "      <td>50</td>\n",
       "      <td>8</td>\n",
       "      <td>NaN</td>\n",
       "      <td>1/28/2021 9:08</td>\n",
       "      <td>1.0</td>\n",
       "      <td>autist journey one month storytim</td>\n",
       "      <td>nan</td>\n",
       "    </tr>\n",
       "    <tr>\n",
       "      <th>1</th>\n",
       "      <td>You all have made Melvin live up to its name</td>\n",
       "      <td>70</td>\n",
       "      <td>7</td>\n",
       "      <td>NaN</td>\n",
       "      <td>1/28/2021 9:08</td>\n",
       "      <td>1.0</td>\n",
       "      <td>made melvin live name</td>\n",
       "      <td>nan</td>\n",
       "    </tr>\n",
       "    <tr>\n",
       "      <th>2</th>\n",
       "      <td>I got in late on GME but I believe in the caus...</td>\n",
       "      <td>75</td>\n",
       "      <td>14</td>\n",
       "      <td>You guys are amazing. Thank you for sending GM...</td>\n",
       "      <td>1/28/2021 9:08</td>\n",
       "      <td>1.0</td>\n",
       "      <td>got late gme believ caus lose</td>\n",
       "      <td>guy amazing thank send gme moon know im go los...</td>\n",
       "    </tr>\n",
       "    <tr>\n",
       "      <th>3</th>\n",
       "      <td>Highest SI % of Float End of Business Jan 27th...</td>\n",
       "      <td>26</td>\n",
       "      <td>22</td>\n",
       "      <td>Will Update Daily At Market Close\\n\\nTop 5 sec...</td>\n",
       "      <td>1/28/2021 9:08</td>\n",
       "      <td>1.0</td>\n",
       "      <td>highest si float end busi jan th accord partner</td>\n",
       "      <td>updat daili market close top secur si float en...</td>\n",
       "    </tr>\n",
       "    <tr>\n",
       "      <th>4</th>\n",
       "      <td>Discord still down</td>\n",
       "      <td>0</td>\n",
       "      <td>6</td>\n",
       "      <td>i can't see how to talk to to any anti bot mea...</td>\n",
       "      <td>1/28/2021 9:08</td>\n",
       "      <td>1.0</td>\n",
       "      <td>discord still</td>\n",
       "      <td>cant see talk ani anti bot measure ani admin c...</td>\n",
       "    </tr>\n",
       "    <tr>\n",
       "      <th>5</th>\n",
       "      <td>What are you doing to AMC?</td>\n",
       "      <td>67</td>\n",
       "      <td>55</td>\n",
       "      <td>Hey retards what the hell is going on with AMC...</td>\n",
       "      <td>1/28/2021 9:08</td>\n",
       "      <td>1.0</td>\n",
       "      <td>amc</td>\n",
       "      <td>hey retard hell go amc hours tri give prematur...</td>\n",
       "    </tr>\n",
       "    <tr>\n",
       "      <th>6</th>\n",
       "      <td>HOW CAN I BUY STOCK????!!!</td>\n",
       "      <td>0</td>\n",
       "      <td>12</td>\n",
       "      <td>I'm from canada and want to know the best trad...</td>\n",
       "      <td>1/28/2021 9:08</td>\n",
       "      <td>1.0</td>\n",
       "      <td>buy stock</td>\n",
       "      <td>im canada want know best trade platform use bu...</td>\n",
       "    </tr>\n",
       "    <tr>\n",
       "      <th>7</th>\n",
       "      <td>Buy games at GameStop, donate to charity (not ...</td>\n",
       "      <td>50</td>\n",
       "      <td>9</td>\n",
       "      <td>Value goes up, kids play video games</td>\n",
       "      <td>1/28/2021 9:08</td>\n",
       "      <td>1.0</td>\n",
       "      <td>buy game gamestop donat chariti goodwill</td>\n",
       "      <td>valu goe kid play video game</td>\n",
       "    </tr>\n",
       "    <tr>\n",
       "      <th>8</th>\n",
       "      <td>How do i invest in GameStop? I don't know anyt...</td>\n",
       "      <td>0</td>\n",
       "      <td>21</td>\n",
       "      <td>NaN</td>\n",
       "      <td>1/28/2021 9:08</td>\n",
       "      <td>1.0</td>\n",
       "      <td>invest gamestop dont know anyth stock markets</td>\n",
       "      <td>nan</td>\n",
       "    </tr>\n",
       "    <tr>\n",
       "      <th>9</th>\n",
       "      <td>Hmmmmmm turns out BlackRock is making use of o...</td>\n",
       "      <td>66</td>\n",
       "      <td>8</td>\n",
       "      <td>NaN</td>\n",
       "      <td>1/28/2021 9:08</td>\n",
       "      <td>1.0</td>\n",
       "      <td>hmmmmmm turn blackrock make use weapon autism</td>\n",
       "      <td>nan</td>\n",
       "    </tr>\n",
       "  </tbody>\n",
       "</table>\n",
       "</div>"
      ],
      "text/plain": [
       "                                               title score comms_num  \\\n",
       "0  An autists journey. $150 to $68k in one month....    50         8   \n",
       "1       You all have made Melvin live up to its name    70         7   \n",
       "2  I got in late on GME but I believe in the caus...    75        14   \n",
       "3  Highest SI % of Float End of Business Jan 27th...    26        22   \n",
       "4                                 Discord still down     0         6   \n",
       "5                         What are you doing to AMC?    67        55   \n",
       "6                         HOW CAN I BUY STOCK????!!!     0        12   \n",
       "7  Buy games at GameStop, donate to charity (not ...    50         9   \n",
       "8  How do i invest in GameStop? I don't know anyt...     0        21   \n",
       "9  Hmmmmmm turns out BlackRock is making use of o...    66         8   \n",
       "\n",
       "                                                body       timestamp  \\\n",
       "0                                                NaN  1/28/2021 9:08   \n",
       "1                                                NaN  1/28/2021 9:08   \n",
       "2  You guys are amazing. Thank you for sending GM...  1/28/2021 9:08   \n",
       "3  Will Update Daily At Market Close\\n\\nTop 5 sec...  1/28/2021 9:08   \n",
       "4  i can't see how to talk to to any anti bot mea...  1/28/2021 9:08   \n",
       "5  Hey retards what the hell is going on with AMC...  1/28/2021 9:08   \n",
       "6  I'm from canada and want to know the best trad...  1/28/2021 9:08   \n",
       "7               Value goes up, kids play video games  1/28/2021 9:08   \n",
       "8                                                NaN  1/28/2021 9:08   \n",
       "9                                                NaN  1/28/2021 9:08   \n",
       "\n",
       "   change (+/-)                                    title_cleaned  \\\n",
       "0           1.0                autist journey one month storytim   \n",
       "1           1.0                            made melvin live name   \n",
       "2           1.0                    got late gme believ caus lose   \n",
       "3           1.0  highest si float end busi jan th accord partner   \n",
       "4           1.0                                    discord still   \n",
       "5           1.0                                              amc   \n",
       "6           1.0                                        buy stock   \n",
       "7           1.0         buy game gamestop donat chariti goodwill   \n",
       "8           1.0    invest gamestop dont know anyth stock markets   \n",
       "9           1.0    hmmmmmm turn blackrock make use weapon autism   \n",
       "\n",
       "                                        body_cleaned  \n",
       "0                                                nan  \n",
       "1                                                nan  \n",
       "2  guy amazing thank send gme moon know im go los...  \n",
       "3  updat daili market close top secur si float en...  \n",
       "4  cant see talk ani anti bot measure ani admin c...  \n",
       "5  hey retard hell go amc hours tri give prematur...  \n",
       "6  im canada want know best trade platform use bu...  \n",
       "7                       valu goe kid play video game  \n",
       "8                                                nan  \n",
       "9                                                nan  "
      ]
     },
     "execution_count": 112,
     "metadata": {},
     "output_type": "execute_result"
    }
   ],
   "source": [
    "df.head(10)"
   ]
  },
  {
   "cell_type": "markdown",
   "metadata": {},
   "source": [
    "### Exploratory Data Analysis"
   ]
  },
  {
   "cell_type": "code",
   "execution_count": 113,
   "metadata": {},
   "outputs": [
    {
     "data": {
      "text/html": [
       "<div>\n",
       "<style scoped>\n",
       "    .dataframe tbody tr th:only-of-type {\n",
       "        vertical-align: middle;\n",
       "    }\n",
       "\n",
       "    .dataframe tbody tr th {\n",
       "        vertical-align: top;\n",
       "    }\n",
       "\n",
       "    .dataframe thead th {\n",
       "        text-align: right;\n",
       "    }\n",
       "</style>\n",
       "<table border=\"1\" class=\"dataframe\">\n",
       "  <thead>\n",
       "    <tr style=\"text-align: right;\">\n",
       "      <th></th>\n",
       "      <th>title</th>\n",
       "      <th>body</th>\n",
       "    </tr>\n",
       "  </thead>\n",
       "  <tbody>\n",
       "    <tr>\n",
       "      <th>0</th>\n",
       "      <td>An autists journey. $150 to $68k in one month....</td>\n",
       "      <td>NaN</td>\n",
       "    </tr>\n",
       "    <tr>\n",
       "      <th>1</th>\n",
       "      <td>You all have made Melvin live up to its name</td>\n",
       "      <td>NaN</td>\n",
       "    </tr>\n",
       "    <tr>\n",
       "      <th>2</th>\n",
       "      <td>I got in late on GME but I believe in the caus...</td>\n",
       "      <td>You guys are amazing. Thank you for sending GM...</td>\n",
       "    </tr>\n",
       "    <tr>\n",
       "      <th>3</th>\n",
       "      <td>Highest SI % of Float End of Business Jan 27th...</td>\n",
       "      <td>Will Update Daily At Market Close\\n\\nTop 5 sec...</td>\n",
       "    </tr>\n",
       "    <tr>\n",
       "      <th>4</th>\n",
       "      <td>Discord still down</td>\n",
       "      <td>i can't see how to talk to to any anti bot mea...</td>\n",
       "    </tr>\n",
       "    <tr>\n",
       "      <th>5</th>\n",
       "      <td>What are you doing to AMC?</td>\n",
       "      <td>Hey retards what the hell is going on with AMC...</td>\n",
       "    </tr>\n",
       "    <tr>\n",
       "      <th>6</th>\n",
       "      <td>HOW CAN I BUY STOCK????!!!</td>\n",
       "      <td>I'm from canada and want to know the best trad...</td>\n",
       "    </tr>\n",
       "    <tr>\n",
       "      <th>7</th>\n",
       "      <td>Buy games at GameStop, donate to charity (not ...</td>\n",
       "      <td>Value goes up, kids play video games</td>\n",
       "    </tr>\n",
       "    <tr>\n",
       "      <th>8</th>\n",
       "      <td>How do i invest in GameStop? I don't know anyt...</td>\n",
       "      <td>NaN</td>\n",
       "    </tr>\n",
       "    <tr>\n",
       "      <th>9</th>\n",
       "      <td>Hmmmmmm turns out BlackRock is making use of o...</td>\n",
       "      <td>NaN</td>\n",
       "    </tr>\n",
       "  </tbody>\n",
       "</table>\n",
       "</div>"
      ],
      "text/plain": [
       "                                               title  \\\n",
       "0  An autists journey. $150 to $68k in one month....   \n",
       "1       You all have made Melvin live up to its name   \n",
       "2  I got in late on GME but I believe in the caus...   \n",
       "3  Highest SI % of Float End of Business Jan 27th...   \n",
       "4                                 Discord still down   \n",
       "5                         What are you doing to AMC?   \n",
       "6                         HOW CAN I BUY STOCK????!!!   \n",
       "7  Buy games at GameStop, donate to charity (not ...   \n",
       "8  How do i invest in GameStop? I don't know anyt...   \n",
       "9  Hmmmmmm turns out BlackRock is making use of o...   \n",
       "\n",
       "                                                body  \n",
       "0                                                NaN  \n",
       "1                                                NaN  \n",
       "2  You guys are amazing. Thank you for sending GM...  \n",
       "3  Will Update Daily At Market Close\\n\\nTop 5 sec...  \n",
       "4  i can't see how to talk to to any anti bot mea...  \n",
       "5  Hey retards what the hell is going on with AMC...  \n",
       "6  I'm from canada and want to know the best trad...  \n",
       "7               Value goes up, kids play video games  \n",
       "8                                                NaN  \n",
       "9                                                NaN  "
      ]
     },
     "execution_count": 113,
     "metadata": {},
     "output_type": "execute_result"
    }
   ],
   "source": [
    "# Extract titles and bodies of the wsbets posts\n",
    "vis_df = df[['title', 'body']].copy()\n",
    "vis_df.head(10)"
   ]
  },
  {
   "cell_type": "code",
   "execution_count": 114,
   "metadata": {},
   "outputs": [],
   "source": [
    "# Combine into plain text column\n",
    "vis_df = vis_df.dropna()\n",
    "vis_df['combined'] = vis_df['title'] + ' ' + vis_df['body']\n",
    "vis_df = vis_df.reset_index()"
   ]
  },
  {
   "cell_type": "code",
   "execution_count": 115,
   "metadata": {},
   "outputs": [
    {
     "data": {
      "text/html": [
       "<div>\n",
       "<style scoped>\n",
       "    .dataframe tbody tr th:only-of-type {\n",
       "        vertical-align: middle;\n",
       "    }\n",
       "\n",
       "    .dataframe tbody tr th {\n",
       "        vertical-align: top;\n",
       "    }\n",
       "\n",
       "    .dataframe thead th {\n",
       "        text-align: right;\n",
       "    }\n",
       "</style>\n",
       "<table border=\"1\" class=\"dataframe\">\n",
       "  <thead>\n",
       "    <tr style=\"text-align: right;\">\n",
       "      <th></th>\n",
       "      <th>index</th>\n",
       "      <th>title</th>\n",
       "      <th>body</th>\n",
       "      <th>combined</th>\n",
       "    </tr>\n",
       "  </thead>\n",
       "  <tbody>\n",
       "    <tr>\n",
       "      <th>0</th>\n",
       "      <td>2</td>\n",
       "      <td>I got in late on GME but I believe in the caus...</td>\n",
       "      <td>You guys are amazing. Thank you for sending GM...</td>\n",
       "      <td>I got in late on GME but I believe in the caus...</td>\n",
       "    </tr>\n",
       "    <tr>\n",
       "      <th>1</th>\n",
       "      <td>3</td>\n",
       "      <td>Highest SI % of Float End of Business Jan 27th...</td>\n",
       "      <td>Will Update Daily At Market Close\\n\\nTop 5 sec...</td>\n",
       "      <td>Highest SI % of Float End of Business Jan 27th...</td>\n",
       "    </tr>\n",
       "    <tr>\n",
       "      <th>2</th>\n",
       "      <td>4</td>\n",
       "      <td>Discord still down</td>\n",
       "      <td>i can't see how to talk to to any anti bot mea...</td>\n",
       "      <td>Discord still down i can't see how to talk to ...</td>\n",
       "    </tr>\n",
       "    <tr>\n",
       "      <th>3</th>\n",
       "      <td>5</td>\n",
       "      <td>What are you doing to AMC?</td>\n",
       "      <td>Hey retards what the hell is going on with AMC...</td>\n",
       "      <td>What are you doing to AMC? Hey retards what th...</td>\n",
       "    </tr>\n",
       "    <tr>\n",
       "      <th>4</th>\n",
       "      <td>6</td>\n",
       "      <td>HOW CAN I BUY STOCK????!!!</td>\n",
       "      <td>I'm from canada and want to know the best trad...</td>\n",
       "      <td>HOW CAN I BUY STOCK????!!! I'm from canada and...</td>\n",
       "    </tr>\n",
       "    <tr>\n",
       "      <th>5</th>\n",
       "      <td>7</td>\n",
       "      <td>Buy games at GameStop, donate to charity (not ...</td>\n",
       "      <td>Value goes up, kids play video games</td>\n",
       "      <td>Buy games at GameStop, donate to charity (not ...</td>\n",
       "    </tr>\n",
       "    <tr>\n",
       "      <th>6</th>\n",
       "      <td>12</td>\n",
       "      <td>Can we become a force for good with our power?</td>\n",
       "      <td>Hey Gang,\\n\\nLong time user that recently got ...</td>\n",
       "      <td>Can we become a force for good with our power?...</td>\n",
       "    </tr>\n",
       "    <tr>\n",
       "      <th>7</th>\n",
       "      <td>13</td>\n",
       "      <td>Did I just get fucked investing into NAKD</td>\n",
       "      <td>Did I fall for a pump and dump is my money gon...</td>\n",
       "      <td>Did I just get fucked investing into NAKD Did ...</td>\n",
       "    </tr>\n",
       "    <tr>\n",
       "      <th>8</th>\n",
       "      <td>17</td>\n",
       "      <td>Is it too late to buy Gamestop shares?</td>\n",
       "      <td>I’ve been really busy this week and haven’t be...</td>\n",
       "      <td>Is it too late to buy Gamestop shares? I’ve be...</td>\n",
       "    </tr>\n",
       "    <tr>\n",
       "      <th>9</th>\n",
       "      <td>18</td>\n",
       "      <td>Pending transfer RH question</td>\n",
       "      <td>Will upgrading to RH Gold make my current pend...</td>\n",
       "      <td>Pending transfer RH question Will upgrading to...</td>\n",
       "    </tr>\n",
       "  </tbody>\n",
       "</table>\n",
       "</div>"
      ],
      "text/plain": [
       "   index                                              title  \\\n",
       "0      2  I got in late on GME but I believe in the caus...   \n",
       "1      3  Highest SI % of Float End of Business Jan 27th...   \n",
       "2      4                                 Discord still down   \n",
       "3      5                         What are you doing to AMC?   \n",
       "4      6                         HOW CAN I BUY STOCK????!!!   \n",
       "5      7  Buy games at GameStop, donate to charity (not ...   \n",
       "6     12     Can we become a force for good with our power?   \n",
       "7     13          Did I just get fucked investing into NAKD   \n",
       "8     17             Is it too late to buy Gamestop shares?   \n",
       "9     18                       Pending transfer RH question   \n",
       "\n",
       "                                                body  \\\n",
       "0  You guys are amazing. Thank you for sending GM...   \n",
       "1  Will Update Daily At Market Close\\n\\nTop 5 sec...   \n",
       "2  i can't see how to talk to to any anti bot mea...   \n",
       "3  Hey retards what the hell is going on with AMC...   \n",
       "4  I'm from canada and want to know the best trad...   \n",
       "5               Value goes up, kids play video games   \n",
       "6  Hey Gang,\\n\\nLong time user that recently got ...   \n",
       "7  Did I fall for a pump and dump is my money gon...   \n",
       "8  I’ve been really busy this week and haven’t be...   \n",
       "9  Will upgrading to RH Gold make my current pend...   \n",
       "\n",
       "                                            combined  \n",
       "0  I got in late on GME but I believe in the caus...  \n",
       "1  Highest SI % of Float End of Business Jan 27th...  \n",
       "2  Discord still down i can't see how to talk to ...  \n",
       "3  What are you doing to AMC? Hey retards what th...  \n",
       "4  HOW CAN I BUY STOCK????!!! I'm from canada and...  \n",
       "5  Buy games at GameStop, donate to charity (not ...  \n",
       "6  Can we become a force for good with our power?...  \n",
       "7  Did I just get fucked investing into NAKD Did ...  \n",
       "8  Is it too late to buy Gamestop shares? I’ve be...  \n",
       "9  Pending transfer RH question Will upgrading to...  "
      ]
     },
     "execution_count": 115,
     "metadata": {},
     "output_type": "execute_result"
    }
   ],
   "source": [
    "vis_df.head(10)"
   ]
  },
  {
   "cell_type": "code",
   "execution_count": 116,
   "metadata": {},
   "outputs": [
    {
     "name": "stdout",
     "output_type": "stream",
     "text": [
      "There are 18734332 words in the combination of all posts and titles on r/wsbets.\n"
     ]
    }
   ],
   "source": [
    "# Now let's run the same analysis for all posts\n",
    "text = ' '.join(vis_df.combined)\n",
    "print (\"There are {} words in the combination of all posts and titles on r/wsbets.\".format(len(text)))"
   ]
  },
  {
   "cell_type": "code",
   "execution_count": 117,
   "metadata": {},
   "outputs": [
    {
     "data": {
      "image/png": "[encoded data removed]",
      "text/plain": [
       "<Figure size 720x432 with 1 Axes>"
      ]
     },
     "metadata": {
      "needs_background": "light"
     },
     "output_type": "display_data"
    }
   ],
   "source": [
    "# Create stopword list\n",
    "stopwords = set(STOPWORDS)\n",
    "stopwords.update(nltk.corpus.stopwords.words('english'))\n",
    "\n",
    "# Generate a word cloud image\n",
    "wordcloud = WordCloud(stopwords=stopwords, background_color=\"white\").generate(text)\n",
    "\n",
    "# Display the generated image\n",
    "plt.figure(figsize=(10,6))\n",
    "plt.imshow(wordcloud, interpolation='bilinear')\n",
    "plt.axis(\"off\")\n",
    "plt.show()"
   ]
  },
  {
   "cell_type": "code",
   "execution_count": 118,
   "metadata": {},
   "outputs": [
    {
     "data": {
      "application/vnd.plotly.v1+json": {
       "config": {
        "plotlyServerURL": "https://plot.ly"
       },
       "data": [
        {
         "hovertemplate": "Date=%{x}<br>Adj Close=%{y}<extra></extra>",
         "legendgroup": "",
         "line": {
          "color": "#636efa",
          "dash": "solid"
         },
         "mode": "lines",
         "name": "",
         "orientation": "v",
         "showlegend": false,
         "type": "scatter",
         "x": [
          "1/28/2021",
          "1/29/2021",
          "2/1/2021",
          "2/2/2021",
          "2/3/2021",
          "2/4/2021",
          "2/5/2021",
          "2/8/2021",
          "2/9/2021",
          "2/10/2021",
          "2/11/2021",
          "2/12/2021",
          "2/16/2021",
          "2/17/2021",
          "2/18/2021",
          "2/19/2021",
          "2/22/2021",
          "2/23/2021",
          "2/24/2021",
          "2/25/2021",
          "2/26/2021",
          "3/1/2021",
          "3/2/2021",
          "3/3/2021",
          "3/4/2021",
          "3/5/2021",
          "3/8/2021",
          "3/9/2021",
          "3/10/2021",
          "3/11/2021",
          "3/12/2021",
          "3/15/2021",
          "3/16/2021",
          "3/17/2021",
          "3/18/2021",
          "3/19/2021",
          "3/22/2021",
          "3/23/2021",
          "3/24/2021",
          "3/25/2021",
          "3/26/2021",
          "3/29/2021",
          "3/30/2021",
          "3/31/2021",
          "4/1/2021",
          "4/5/2021",
          "4/6/2021",
          "4/7/2021",
          "4/8/2021",
          "4/9/2021",
          "4/12/2021",
          "4/13/2021",
          "4/14/2021",
          "4/15/2021",
          "4/16/2021",
          "4/19/2021",
          "4/20/2021",
          "4/21/2021",
          "4/22/2021",
          "4/23/2021",
          "4/26/2021",
          "4/27/2021",
          "4/28/2021",
          null
         ],
         "xaxis": "x",
         "y": [
          193.600006,
          325,
          225,
          90,
          92.410004,
          53.5,
          63.77,
          60,
          50.310001,
          51.200001,
          51.099998,
          52.400002,
          49.509997999999996,
          45.939999,
          40.689999,
          40.59,
          46,
          44.970001,
          91.709999,
          108.730003,
          101.739998,
          120.400002,
          118.18,
          124.18,
          132.350006,
          137.740005,
          194.5,
          246.899994,
          265,
          260,
          264.5,
          220.13999900000002,
          208.169998,
          209.809998,
          201.75,
          200.270004,
          194.490005,
          181.75,
          120.339996,
          183.75,
          181,
          181.300003,
          194.46000700000002,
          189.820007,
          191.449997,
          186.949997,
          184.5,
          177.970001,
          170.259995,
          158.360001,
          141.08999599999999,
          140.990005,
          166.529999,
          156.440002,
          154.690002,
          164.369995,
          158.529999,
          158.509995,
          151.169998,
          151.179993,
          168.929993,
          177.770004,
          178.580002,
          null
         ],
         "yaxis": "y"
        }
       ],
       "layout": {
        "legend": {
         "tracegroupgap": 0
        },
        "template": {
         "data": {
          "bar": [
           {
            "error_x": {
             "color": "#2a3f5f"
            },
            "error_y": {
             "color": "#2a3f5f"
            },
            "marker": {
             "line": {
              "color": "#E5ECF6",
              "width": 0.5
             }
            },
            "type": "bar"
           }
          ],
          "barpolar": [
           {
            "marker": {
             "line": {
              "color": "#E5ECF6",
              "width": 0.5
             }
            },
            "type": "barpolar"
           }
          ],
          "carpet": [
           {
            "aaxis": {
             "endlinecolor": "#2a3f5f",
             "gridcolor": "white",
             "linecolor": "white",
             "minorgridcolor": "white",
             "startlinecolor": "#2a3f5f"
            },
            "baxis": {
             "endlinecolor": "#2a3f5f",
             "gridcolor": "white",
             "linecolor": "white",
             "minorgridcolor": "white",
             "startlinecolor": "#2a3f5f"
            },
            "type": "carpet"
           }
          ],
          "choropleth": [
           {
            "colorbar": {
             "outlinewidth": 0,
             "ticks": ""
            },
            "type": "choropleth"
           }
          ],
          "contour": [
           {
            "colorbar": {
             "outlinewidth": 0,
             "ticks": ""
            },
            "colorscale": [
             [
              0,
              "#0d0887"
             ],
             [
              0.1111111111111111,
              "#46039f"
             ],
             [
              0.2222222222222222,
              "#7201a8"
             ],
             [
              0.3333333333333333,
              "#9c179e"
             ],
             [
              0.4444444444444444,
              "#bd3786"
             ],
             [
              0.5555555555555556,
              "#d8576b"
             ],
             [
              0.6666666666666666,
              "#ed7953"
             ],
             [
              0.7777777777777778,
              "#fb9f3a"
             ],
             [
              0.8888888888888888,
              "#fdca26"
             ],
             [
              1,
              "#f0f921"
             ]
            ],
            "type": "contour"
           }
          ],
          "contourcarpet": [
           {
            "colorbar": {
             "outlinewidth": 0,
             "ticks": ""
            },
            "type": "contourcarpet"
           }
          ],
          "heatmap": [
           {
            "colorbar": {
             "outlinewidth": 0,
             "ticks": ""
            },
            "colorscale": [
             [
              0,
              "#0d0887"
             ],
             [
              0.1111111111111111,
              "#46039f"
             ],
             [
              0.2222222222222222,
              "#7201a8"
             ],
             [
              0.3333333333333333,
              "#9c179e"
             ],
             [
              0.4444444444444444,
              "#bd3786"
             ],
             [
              0.5555555555555556,
              "#d8576b"
             ],
             [
              0.6666666666666666,
              "#ed7953"
             ],
             [
              0.7777777777777778,
              "#fb9f3a"
             ],
             [
              0.8888888888888888,
              "#fdca26"
             ],
             [
              1,
              "#f0f921"
             ]
            ],
            "type": "heatmap"
           }
          ],
          "heatmapgl": [
           {
            "colorbar": {
             "outlinewidth": 0,
             "ticks": ""
            },
            "colorscale": [
             [
              0,
              "#0d0887"
             ],
             [
              0.1111111111111111,
              "#46039f"
             ],
             [
              0.2222222222222222,
              "#7201a8"
             ],
             [
              0.3333333333333333,
              "#9c179e"
             ],
             [
              0.4444444444444444,
              "#bd3786"
             ],
             [
              0.5555555555555556,
              "#d8576b"
             ],
             [
              0.6666666666666666,
              "#ed7953"
             ],
             [
              0.7777777777777778,
              "#fb9f3a"
             ],
             [
              0.8888888888888888,
              "#fdca26"
             ],
             [
              1,
              "#f0f921"
             ]
            ],
            "type": "heatmapgl"
           }
          ],
          "histogram": [
           {
            "marker": {
             "colorbar": {
              "outlinewidth": 0,
              "ticks": ""
             }
            },
            "type": "histogram"
           }
          ],
          "histogram2d": [
           {
            "colorbar": {
             "outlinewidth": 0,
             "ticks": ""
            },
            "colorscale": [
             [
              0,
              "#0d0887"
             ],
             [
              0.1111111111111111,
              "#46039f"
             ],
             [
              0.2222222222222222,
              "#7201a8"
             ],
             [
              0.3333333333333333,
              "#9c179e"
             ],
             [
              0.4444444444444444,
              "#bd3786"
             ],
             [
              0.5555555555555556,
              "#d8576b"
             ],
             [
              0.6666666666666666,
              "#ed7953"
             ],
             [
              0.7777777777777778,
              "#fb9f3a"
             ],
             [
              0.8888888888888888,
              "#fdca26"
             ],
             [
              1,
              "#f0f921"
             ]
            ],
            "type": "histogram2d"
           }
          ],
          "histogram2dcontour": [
           {
            "colorbar": {
             "outlinewidth": 0,
             "ticks": ""
            },
            "colorscale": [
             [
              0,
              "#0d0887"
             ],
             [
              0.1111111111111111,
              "#46039f"
             ],
             [
              0.2222222222222222,
              "#7201a8"
             ],
             [
              0.3333333333333333,
              "#9c179e"
             ],
             [
              0.4444444444444444,
              "#bd3786"
             ],
             [
              0.5555555555555556,
              "#d8576b"
             ],
             [
              0.6666666666666666,
              "#ed7953"
             ],
             [
              0.7777777777777778,
              "#fb9f3a"
             ],
             [
              0.8888888888888888,
              "#fdca26"
             ],
             [
              1,
              "#f0f921"
             ]
            ],
            "type": "histogram2dcontour"
           }
          ],
          "mesh3d": [
           {
            "colorbar": {
             "outlinewidth": 0,
             "ticks": ""
            },
            "type": "mesh3d"
           }
          ],
          "parcoords": [
           {
            "line": {
             "colorbar": {
              "outlinewidth": 0,
              "ticks": ""
             }
            },
            "type": "parcoords"
           }
          ],
          "pie": [
           {
            "automargin": true,
            "type": "pie"
           }
          ],
          "scatter": [
           {
            "marker": {
             "colorbar": {
              "outlinewidth": 0,
              "ticks": ""
             }
            },
            "type": "scatter"
           }
          ],
          "scatter3d": [
           {
            "line": {
             "colorbar": {
              "outlinewidth": 0,
              "ticks": ""
             }
            },
            "marker": {
             "colorbar": {
              "outlinewidth": 0,
              "ticks": ""
             }
            },
            "type": "scatter3d"
           }
          ],
          "scattercarpet": [
           {
            "marker": {
             "colorbar": {
              "outlinewidth": 0,
              "ticks": ""
             }
            },
            "type": "scattercarpet"
           }
          ],
          "scattergeo": [
           {
            "marker": {
             "colorbar": {
              "outlinewidth": 0,
              "ticks": ""
             }
            },
            "type": "scattergeo"
           }
          ],
          "scattergl": [
           {
            "marker": {
             "colorbar": {
              "outlinewidth": 0,
              "ticks": ""
             }
            },
            "type": "scattergl"
           }
          ],
          "scattermapbox": [
           {
            "marker": {
             "colorbar": {
              "outlinewidth": 0,
              "ticks": ""
             }
            },
            "type": "scattermapbox"
           }
          ],
          "scatterpolar": [
           {
            "marker": {
             "colorbar": {
              "outlinewidth": 0,
              "ticks": ""
             }
            },
            "type": "scatterpolar"
           }
          ],
          "scatterpolargl": [
           {
            "marker": {
             "colorbar": {
              "outlinewidth": 0,
              "ticks": ""
             }
            },
            "type": "scatterpolargl"
           }
          ],
          "scatterternary": [
           {
            "marker": {
             "colorbar": {
              "outlinewidth": 0,
              "ticks": ""
             }
            },
            "type": "scatterternary"
           }
          ],
          "surface": [
           {
            "colorbar": {
             "outlinewidth": 0,
             "ticks": ""
            },
            "colorscale": [
             [
              0,
              "#0d0887"
             ],
             [
              0.1111111111111111,
              "#46039f"
             ],
             [
              0.2222222222222222,
              "#7201a8"
             ],
             [
              0.3333333333333333,
              "#9c179e"
             ],
             [
              0.4444444444444444,
              "#bd3786"
             ],
             [
              0.5555555555555556,
              "#d8576b"
             ],
             [
              0.6666666666666666,
              "#ed7953"
             ],
             [
              0.7777777777777778,
              "#fb9f3a"
             ],
             [
              0.8888888888888888,
              "#fdca26"
             ],
             [
              1,
              "#f0f921"
             ]
            ],
            "type": "surface"
           }
          ],
          "table": [
           {
            "cells": {
             "fill": {
              "color": "#EBF0F8"
             },
             "line": {
              "color": "white"
             }
            },
            "header": {
             "fill": {
              "color": "#C8D4E3"
             },
             "line": {
              "color": "white"
             }
            },
            "type": "table"
           }
          ]
         },
         "layout": {
          "annotationdefaults": {
           "arrowcolor": "#2a3f5f",
           "arrowhead": 0,
           "arrowwidth": 1
          },
          "autotypenumbers": "strict",
          "coloraxis": {
           "colorbar": {
            "outlinewidth": 0,
            "ticks": ""
           }
          },
          "colorscale": {
           "diverging": [
            [
             0,
             "#8e0152"
            ],
            [
             0.1,
             "#c51b7d"
            ],
            [
             0.2,
             "#de77ae"
            ],
            [
             0.3,
             "#f1b6da"
            ],
            [
             0.4,
             "#fde0ef"
            ],
            [
             0.5,
             "#f7f7f7"
            ],
            [
             0.6,
             "#e6f5d0"
            ],
            [
             0.7,
             "#b8e186"
            ],
            [
             0.8,
             "#7fbc41"
            ],
            [
             0.9,
             "#4d9221"
            ],
            [
             1,
             "#276419"
            ]
           ],
           "sequential": [
            [
             0,
             "#0d0887"
            ],
            [
             0.1111111111111111,
             "#46039f"
            ],
            [
             0.2222222222222222,
             "#7201a8"
            ],
            [
             0.3333333333333333,
             "#9c179e"
            ],
            [
             0.4444444444444444,
             "#bd3786"
            ],
            [
             0.5555555555555556,
             "#d8576b"
            ],
            [
             0.6666666666666666,
             "#ed7953"
            ],
            [
             0.7777777777777778,
             "#fb9f3a"
            ],
            [
             0.8888888888888888,
             "#fdca26"
            ],
            [
             1,
             "#f0f921"
            ]
           ],
           "sequentialminus": [
            [
             0,
             "#0d0887"
            ],
            [
             0.1111111111111111,
             "#46039f"
            ],
            [
             0.2222222222222222,
             "#7201a8"
            ],
            [
             0.3333333333333333,
             "#9c179e"
            ],
            [
             0.4444444444444444,
             "#bd3786"
            ],
            [
             0.5555555555555556,
             "#d8576b"
            ],
            [
             0.6666666666666666,
             "#ed7953"
            ],
            [
             0.7777777777777778,
             "#fb9f3a"
            ],
            [
             0.8888888888888888,
             "#fdca26"
            ],
            [
             1,
             "#f0f921"
            ]
           ]
          },
          "colorway": [
           "#636efa",
           "#EF553B",
           "#00cc96",
           "#ab63fa",
           "#FFA15A",
           "#19d3f3",
           "#FF6692",
           "#B6E880",
           "#FF97FF",
           "#FECB52"
          ],
          "font": {
           "color": "#2a3f5f"
          },
          "geo": {
           "bgcolor": "white",
           "lakecolor": "white",
           "landcolor": "#E5ECF6",
           "showlakes": true,
           "showland": true,
           "subunitcolor": "white"
          },
          "hoverlabel": {
           "align": "left"
          },
          "hovermode": "closest",
          "mapbox": {
           "style": "light"
          },
          "paper_bgcolor": "white",
          "plot_bgcolor": "#E5ECF6",
          "polar": {
           "angularaxis": {
            "gridcolor": "white",
            "linecolor": "white",
            "ticks": ""
           },
           "bgcolor": "#E5ECF6",
           "radialaxis": {
            "gridcolor": "white",
            "linecolor": "white",
            "ticks": ""
           }
          },
          "scene": {
           "xaxis": {
            "backgroundcolor": "#E5ECF6",
            "gridcolor": "white",
            "gridwidth": 2,
            "linecolor": "white",
            "showbackground": true,
            "ticks": "",
            "zerolinecolor": "white"
           },
           "yaxis": {
            "backgroundcolor": "#E5ECF6",
            "gridcolor": "white",
            "gridwidth": 2,
            "linecolor": "white",
            "showbackground": true,
            "ticks": "",
            "zerolinecolor": "white"
           },
           "zaxis": {
            "backgroundcolor": "#E5ECF6",
            "gridcolor": "white",
            "gridwidth": 2,
            "linecolor": "white",
            "showbackground": true,
            "ticks": "",
            "zerolinecolor": "white"
           }
          },
          "shapedefaults": {
           "line": {
            "color": "#2a3f5f"
           }
          },
          "ternary": {
           "aaxis": {
            "gridcolor": "white",
            "linecolor": "white",
            "ticks": ""
           },
           "baxis": {
            "gridcolor": "white",
            "linecolor": "white",
            "ticks": ""
           },
           "bgcolor": "#E5ECF6",
           "caxis": {
            "gridcolor": "white",
            "linecolor": "white",
            "ticks": ""
           }
          },
          "title": {
           "x": 0.05
          },
          "xaxis": {
           "automargin": true,
           "gridcolor": "white",
           "linecolor": "white",
           "ticks": "",
           "title": {
            "standoff": 15
           },
           "zerolinecolor": "white",
           "zerolinewidth": 2
          },
          "yaxis": {
           "automargin": true,
           "gridcolor": "white",
           "linecolor": "white",
           "ticks": "",
           "title": {
            "standoff": 15
           },
           "zerolinecolor": "white",
           "zerolinewidth": 2
          }
         }
        },
        "title": {
         "text": "GME Stock Prices over Time"
        },
        "xaxis": {
         "anchor": "y",
         "domain": [
          0,
          1
         ],
         "title": {
          "text": "Date"
         }
        },
        "yaxis": {
         "anchor": "x",
         "domain": [
          0,
          1
         ],
         "title": {
          "text": "Adj Close"
         }
        }
       }
      },
      "text/html": [
       "<div>                            <div id=\"caeec1e4-2a42-483b-8ec0-a6a34555f1d1\" class=\"plotly-graph-div\" style=\"height:525px; width:100%;\"></div>            <script type=\"text/javascript\">                require([\"plotly\"], function(Plotly) {                    window.PLOTLYENV=window.PLOTLYENV || {};                                    if (document.getElementById(\"caeec1e4-2a42-483b-8ec0-a6a34555f1d1\")) {                    Plotly.newPlot(                        \"caeec1e4-2a42-483b-8ec0-a6a34555f1d1\",                        [{\"hovertemplate\": \"Date=%{x}<br>Adj Close=%{y}<extra></extra>\", \"legendgroup\": \"\", \"line\": {\"color\": \"#636efa\", \"dash\": \"solid\"}, \"mode\": \"lines\", \"name\": \"\", \"orientation\": \"v\", \"showlegend\": false, \"type\": \"scatter\", \"x\": [\"1/28/2021\", \"1/29/2021\", \"2/1/2021\", \"2/2/2021\", \"2/3/2021\", \"2/4/2021\", \"2/5/2021\", \"2/8/2021\", \"2/9/2021\", \"2/10/2021\", \"2/11/2021\", \"2/12/2021\", \"2/16/2021\", \"2/17/2021\", \"2/18/2021\", \"2/19/2021\", \"2/22/2021\", \"2/23/2021\", \"2/24/2021\", \"2/25/2021\", \"2/26/2021\", \"3/1/2021\", \"3/2/2021\", \"3/3/2021\", \"3/4/2021\", \"3/5/2021\", \"3/8/2021\", \"3/9/2021\", \"3/10/2021\", \"3/11/2021\", \"3/12/2021\", \"3/15/2021\", \"3/16/2021\", \"3/17/2021\", \"3/18/2021\", \"3/19/2021\", \"3/22/2021\", \"3/23/2021\", \"3/24/2021\", \"3/25/2021\", \"3/26/2021\", \"3/29/2021\", \"3/30/2021\", \"3/31/2021\", \"4/1/2021\", \"4/5/2021\", \"4/6/2021\", \"4/7/2021\", \"4/8/2021\", \"4/9/2021\", \"4/12/2021\", \"4/13/2021\", \"4/14/2021\", \"4/15/2021\", \"4/16/2021\", \"4/19/2021\", \"4/20/2021\", \"4/21/2021\", \"4/22/2021\", \"4/23/2021\", \"4/26/2021\", \"4/27/2021\", \"4/28/2021\", null], \"xaxis\": \"x\", \"y\": [193.600006, 325.0, 225.0, 90.0, 92.410004, 53.5, 63.77, 60.0, 50.310001, 51.200001, 51.099998, 52.400002, 49.509997999999996, 45.939999, 40.689999, 40.59, 46.0, 44.970001, 91.709999, 108.730003, 101.739998, 120.400002, 118.18, 124.18, 132.350006, 137.740005, 194.5, 246.899994, 265.0, 260.0, 264.5, 220.13999900000002, 208.169998, 209.809998, 201.75, 200.270004, 194.490005, 181.75, 120.339996, 183.75, 181.0, 181.300003, 194.46000700000002, 189.820007, 191.449997, 186.949997, 184.5, 177.970001, 170.259995, 158.360001, 141.08999599999999, 140.990005, 166.529999, 156.440002, 154.690002, 164.369995, 158.529999, 158.509995, 151.169998, 151.179993, 168.929993, 177.770004, 178.580002, null], \"yaxis\": \"y\"}],                        {\"legend\": {\"tracegroupgap\": 0}, \"template\": {\"data\": {\"bar\": [{\"error_x\": {\"color\": \"#2a3f5f\"}, \"error_y\": {\"color\": \"#2a3f5f\"}, \"marker\": {\"line\": {\"color\": \"#E5ECF6\", \"width\": 0.5}}, \"type\": \"bar\"}], \"barpolar\": [{\"marker\": {\"line\": {\"color\": \"#E5ECF6\", \"width\": 0.5}}, \"type\": \"barpolar\"}], \"carpet\": [{\"aaxis\": {\"endlinecolor\": \"#2a3f5f\", \"gridcolor\": \"white\", \"linecolor\": \"white\", \"minorgridcolor\": \"white\", \"startlinecolor\": \"#2a3f5f\"}, \"baxis\": {\"endlinecolor\": \"#2a3f5f\", \"gridcolor\": \"white\", \"linecolor\": \"white\", \"minorgridcolor\": \"white\", \"startlinecolor\": \"#2a3f5f\"}, \"type\": \"carpet\"}], \"choropleth\": [{\"colorbar\": {\"outlinewidth\": 0, \"ticks\": \"\"}, \"type\": \"choropleth\"}], \"contour\": [{\"colorbar\": {\"outlinewidth\": 0, \"ticks\": \"\"}, \"colorscale\": [[0.0, \"#0d0887\"], [0.1111111111111111, \"#46039f\"], [0.2222222222222222, \"#7201a8\"], [0.3333333333333333, \"#9c179e\"], [0.4444444444444444, \"#bd3786\"], [0.5555555555555556, \"#d8576b\"], [0.6666666666666666, \"#ed7953\"], [0.7777777777777778, \"#fb9f3a\"], [0.8888888888888888, \"#fdca26\"], [1.0, \"#f0f921\"]], \"type\": \"contour\"}], \"contourcarpet\": [{\"colorbar\": {\"outlinewidth\": 0, \"ticks\": \"\"}, \"type\": \"contourcarpet\"}], \"heatmap\": [{\"colorbar\": {\"outlinewidth\": 0, \"ticks\": \"\"}, \"colorscale\": [[0.0, \"#0d0887\"], [0.1111111111111111, \"#46039f\"], [0.2222222222222222, \"#7201a8\"], [0.3333333333333333, \"#9c179e\"], [0.4444444444444444, \"#bd3786\"], [0.5555555555555556, \"#d8576b\"], [0.6666666666666666, \"#ed7953\"], [0.7777777777777778, \"#fb9f3a\"], [0.8888888888888888, \"#fdca26\"], [1.0, \"#f0f921\"]], \"type\": \"heatmap\"}], \"heatmapgl\": [{\"colorbar\": {\"outlinewidth\": 0, \"ticks\": \"\"}, \"colorscale\": [[0.0, \"#0d0887\"], [0.1111111111111111, \"#46039f\"], [0.2222222222222222, \"#7201a8\"], [0.3333333333333333, \"#9c179e\"], [0.4444444444444444, \"#bd3786\"], [0.5555555555555556, \"#d8576b\"], [0.6666666666666666, \"#ed7953\"], [0.7777777777777778, \"#fb9f3a\"], [0.8888888888888888, \"#fdca26\"], [1.0, \"#f0f921\"]], \"type\": \"heatmapgl\"}], \"histogram\": [{\"marker\": {\"colorbar\": {\"outlinewidth\": 0, \"ticks\": \"\"}}, \"type\": \"histogram\"}], \"histogram2d\": [{\"colorbar\": {\"outlinewidth\": 0, \"ticks\": \"\"}, \"colorscale\": [[0.0, \"#0d0887\"], [0.1111111111111111, \"#46039f\"], [0.2222222222222222, \"#7201a8\"], [0.3333333333333333, \"#9c179e\"], [0.4444444444444444, \"#bd3786\"], [0.5555555555555556, \"#d8576b\"], [0.6666666666666666, \"#ed7953\"], [0.7777777777777778, \"#fb9f3a\"], [0.8888888888888888, \"#fdca26\"], [1.0, \"#f0f921\"]], \"type\": \"histogram2d\"}], \"histogram2dcontour\": [{\"colorbar\": {\"outlinewidth\": 0, \"ticks\": \"\"}, \"colorscale\": [[0.0, \"#0d0887\"], [0.1111111111111111, \"#46039f\"], [0.2222222222222222, \"#7201a8\"], [0.3333333333333333, \"#9c179e\"], [0.4444444444444444, \"#bd3786\"], [0.5555555555555556, \"#d8576b\"], [0.6666666666666666, \"#ed7953\"], [0.7777777777777778, \"#fb9f3a\"], [0.8888888888888888, \"#fdca26\"], [1.0, \"#f0f921\"]], \"type\": \"histogram2dcontour\"}], \"mesh3d\": [{\"colorbar\": {\"outlinewidth\": 0, \"ticks\": \"\"}, \"type\": \"mesh3d\"}], \"parcoords\": [{\"line\": {\"colorbar\": {\"outlinewidth\": 0, \"ticks\": \"\"}}, \"type\": \"parcoords\"}], \"pie\": [{\"automargin\": true, \"type\": \"pie\"}], \"scatter\": [{\"marker\": {\"colorbar\": {\"outlinewidth\": 0, \"ticks\": \"\"}}, \"type\": \"scatter\"}], \"scatter3d\": [{\"line\": {\"colorbar\": {\"outlinewidth\": 0, \"ticks\": \"\"}}, \"marker\": {\"colorbar\": {\"outlinewidth\": 0, \"ticks\": \"\"}}, \"type\": \"scatter3d\"}], \"scattercarpet\": [{\"marker\": {\"colorbar\": {\"outlinewidth\": 0, \"ticks\": \"\"}}, \"type\": \"scattercarpet\"}], \"scattergeo\": [{\"marker\": {\"colorbar\": {\"outlinewidth\": 0, \"ticks\": \"\"}}, \"type\": \"scattergeo\"}], \"scattergl\": [{\"marker\": {\"colorbar\": {\"outlinewidth\": 0, \"ticks\": \"\"}}, \"type\": \"scattergl\"}], \"scattermapbox\": [{\"marker\": {\"colorbar\": {\"outlinewidth\": 0, \"ticks\": \"\"}}, \"type\": \"scattermapbox\"}], \"scatterpolar\": [{\"marker\": {\"colorbar\": {\"outlinewidth\": 0, \"ticks\": \"\"}}, \"type\": \"scatterpolar\"}], \"scatterpolargl\": [{\"marker\": {\"colorbar\": {\"outlinewidth\": 0, \"ticks\": \"\"}}, \"type\": \"scatterpolargl\"}], \"scatterternary\": [{\"marker\": {\"colorbar\": {\"outlinewidth\": 0, \"ticks\": \"\"}}, \"type\": \"scatterternary\"}], \"surface\": [{\"colorbar\": {\"outlinewidth\": 0, \"ticks\": \"\"}, \"colorscale\": [[0.0, \"#0d0887\"], [0.1111111111111111, \"#46039f\"], [0.2222222222222222, \"#7201a8\"], [0.3333333333333333, \"#9c179e\"], [0.4444444444444444, \"#bd3786\"], [0.5555555555555556, \"#d8576b\"], [0.6666666666666666, \"#ed7953\"], [0.7777777777777778, \"#fb9f3a\"], [0.8888888888888888, \"#fdca26\"], [1.0, \"#f0f921\"]], \"type\": \"surface\"}], \"table\": [{\"cells\": {\"fill\": {\"color\": \"#EBF0F8\"}, \"line\": {\"color\": \"white\"}}, \"header\": {\"fill\": {\"color\": \"#C8D4E3\"}, \"line\": {\"color\": \"white\"}}, \"type\": \"table\"}]}, \"layout\": {\"annotationdefaults\": {\"arrowcolor\": \"#2a3f5f\", \"arrowhead\": 0, \"arrowwidth\": 1}, \"autotypenumbers\": \"strict\", \"coloraxis\": {\"colorbar\": {\"outlinewidth\": 0, \"ticks\": \"\"}}, \"colorscale\": {\"diverging\": [[0, \"#8e0152\"], [0.1, \"#c51b7d\"], [0.2, \"#de77ae\"], [0.3, \"#f1b6da\"], [0.4, \"#fde0ef\"], [0.5, \"#f7f7f7\"], [0.6, \"#e6f5d0\"], [0.7, \"#b8e186\"], [0.8, \"#7fbc41\"], [0.9, \"#4d9221\"], [1, \"#276419\"]], \"sequential\": [[0.0, \"#0d0887\"], [0.1111111111111111, \"#46039f\"], [0.2222222222222222, \"#7201a8\"], [0.3333333333333333, \"#9c179e\"], [0.4444444444444444, \"#bd3786\"], [0.5555555555555556, \"#d8576b\"], [0.6666666666666666, \"#ed7953\"], [0.7777777777777778, \"#fb9f3a\"], [0.8888888888888888, \"#fdca26\"], [1.0, \"#f0f921\"]], \"sequentialminus\": [[0.0, \"#0d0887\"], [0.1111111111111111, \"#46039f\"], [0.2222222222222222, \"#7201a8\"], [0.3333333333333333, \"#9c179e\"], [0.4444444444444444, \"#bd3786\"], [0.5555555555555556, \"#d8576b\"], [0.6666666666666666, \"#ed7953\"], [0.7777777777777778, \"#fb9f3a\"], [0.8888888888888888, \"#fdca26\"], [1.0, \"#f0f921\"]]}, \"colorway\": [\"#636efa\", \"#EF553B\", \"#00cc96\", \"#ab63fa\", \"#FFA15A\", \"#19d3f3\", \"#FF6692\", \"#B6E880\", \"#FF97FF\", \"#FECB52\"], \"font\": {\"color\": \"#2a3f5f\"}, \"geo\": {\"bgcolor\": \"white\", \"lakecolor\": \"white\", \"landcolor\": \"#E5ECF6\", \"showlakes\": true, \"showland\": true, \"subunitcolor\": \"white\"}, \"hoverlabel\": {\"align\": \"left\"}, \"hovermode\": \"closest\", \"mapbox\": {\"style\": \"light\"}, \"paper_bgcolor\": \"white\", \"plot_bgcolor\": \"#E5ECF6\", \"polar\": {\"angularaxis\": {\"gridcolor\": \"white\", \"linecolor\": \"white\", \"ticks\": \"\"}, \"bgcolor\": \"#E5ECF6\", \"radialaxis\": {\"gridcolor\": \"white\", \"linecolor\": \"white\", \"ticks\": \"\"}}, \"scene\": {\"xaxis\": {\"backgroundcolor\": \"#E5ECF6\", \"gridcolor\": \"white\", \"gridwidth\": 2, \"linecolor\": \"white\", \"showbackground\": true, \"ticks\": \"\", \"zerolinecolor\": \"white\"}, \"yaxis\": {\"backgroundcolor\": \"#E5ECF6\", \"gridcolor\": \"white\", \"gridwidth\": 2, \"linecolor\": \"white\", \"showbackground\": true, \"ticks\": \"\", \"zerolinecolor\": \"white\"}, \"zaxis\": {\"backgroundcolor\": \"#E5ECF6\", \"gridcolor\": \"white\", \"gridwidth\": 2, \"linecolor\": \"white\", \"showbackground\": true, \"ticks\": \"\", \"zerolinecolor\": \"white\"}}, \"shapedefaults\": {\"line\": {\"color\": \"#2a3f5f\"}}, \"ternary\": {\"aaxis\": {\"gridcolor\": \"white\", \"linecolor\": \"white\", \"ticks\": \"\"}, \"baxis\": {\"gridcolor\": \"white\", \"linecolor\": \"white\", \"ticks\": \"\"}, \"bgcolor\": \"#E5ECF6\", \"caxis\": {\"gridcolor\": \"white\", \"linecolor\": \"white\", \"ticks\": \"\"}}, \"title\": {\"x\": 0.05}, \"xaxis\": {\"automargin\": true, \"gridcolor\": \"white\", \"linecolor\": \"white\", \"ticks\": \"\", \"title\": {\"standoff\": 15}, \"zerolinecolor\": \"white\", \"zerolinewidth\": 2}, \"yaxis\": {\"automargin\": true, \"gridcolor\": \"white\", \"linecolor\": \"white\", \"ticks\": \"\", \"title\": {\"standoff\": 15}, \"zerolinecolor\": \"white\", \"zerolinewidth\": 2}}}, \"title\": {\"text\": \"GME Stock Prices over Time\"}, \"xaxis\": {\"anchor\": \"y\", \"domain\": [0.0, 1.0], \"title\": {\"text\": \"Date\"}}, \"yaxis\": {\"anchor\": \"x\", \"domain\": [0.0, 1.0], \"title\": {\"text\": \"Adj Close\"}}},                        {\"responsive\": true}                    ).then(function(){\n",
       "                            \n",
       "var gd = document.getElementById('caeec1e4-2a42-483b-8ec0-a6a34555f1d1');\n",
       "var x = new MutationObserver(function (mutations, observer) {{\n",
       "        var display = window.getComputedStyle(gd).display;\n",
       "        if (!display || display === 'none') {{\n",
       "            console.log([gd, 'removed!']);\n",
       "            Plotly.purge(gd);\n",
       "            observer.disconnect();\n",
       "        }}\n",
       "}});\n",
       "\n",
       "// Listen for the removal of the full notebook cells\n",
       "var notebookContainer = gd.closest('#notebook-container');\n",
       "if (notebookContainer) {{\n",
       "    x.observe(notebookContainer, {childList: true});\n",
       "}}\n",
       "\n",
       "// Listen for the clearing of the current output cell\n",
       "var outputEl = gd.closest('.output');\n",
       "if (outputEl) {{\n",
       "    x.observe(outputEl, {childList: true});\n",
       "}}\n",
       "\n",
       "                        })                };                });            </script>        </div>"
      ]
     },
     "metadata": {},
     "output_type": "display_data"
    }
   ],
   "source": [
    "# Visualize GME stock prices over time\n",
    "fig = px.line(df_gme, x='Date', y='Adj Close', title=\"GME Stock Prices over Time\")\n",
    "fig.show()"
   ]
  },
  {
   "cell_type": "code",
   "execution_count": null,
   "metadata": {},
   "outputs": [],
   "source": []
  }
 ],
 "metadata": {
  "kernelspec": {
   "display_name": "Python 3",
   "language": "python",
   "name": "python3"
  },
  "language_info": {
   "codemirror_mode": {
    "name": "ipython",
    "version": 3
   },
   "file_extension": ".py",
   "mimetype": "text/x-python",
   "name": "python",
   "nbconvert_exporter": "python",
   "pygments_lexer": "ipython3",
   "version": "3.8.5"
  }
 },
 "nbformat": 4,
 "nbformat_minor": 2
}
